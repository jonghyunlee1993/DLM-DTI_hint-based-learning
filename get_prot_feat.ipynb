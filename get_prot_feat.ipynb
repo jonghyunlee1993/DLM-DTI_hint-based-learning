{
 "cells": [
  {
   "cell_type": "code",
   "execution_count": null,
   "id": "ae413901",
   "metadata": {
    "scrolled": true
   },
   "outputs": [],
   "source": [
    "import pandas as pd\n",
    "\n",
    "df1 = pd.read_csv(\"data/train_dataset.csv\")\n",
    "df2 = pd.read_csv(\"data/valid_dataset.csv\")\n",
    "df3 = pd.read_csv(\"data/test_dataset.csv\")\n",
    "\n",
    "df = pd.concat([df1, df2, df3]).reset_index(drop=True)\n",
    "df = df.loc[:, \"Target Sequence\"].drop_duplicates().reset_index(drop=True)\n",
    "df"
   ]
  },
  {
   "cell_type": "code",
   "execution_count": null,
   "id": "7bc7ca3d",
   "metadata": {
    "scrolled": true
   },
   "outputs": [],
   "source": [
    "import pickle\n",
    "import pandas as pd\n",
    "import transformers\n",
    "from tqdm import tqdm\n",
    "from transformers import AutoModel, BertTokenizer, RobertaTokenizer\n",
    "\n",
    "prot_tokenizer = BertTokenizer.from_pretrained(\"Rostlab/prot_bert_bfd\", do_lower_case=False)\n",
    "prot_encoder = AutoModel.from_pretrained(\"Rostlab/prot_bert_bfd\").to(\"cuda\")\n",
    "prot_encoder.eval()"
   ]
  },
  {
   "cell_type": "code",
   "execution_count": null,
   "id": "9270d296",
   "metadata": {
    "scrolled": true
   },
   "outputs": [],
   "source": [
    "import os\n",
    "os.makedirs('prot_feat', exist_ok=True)\n",
    "\n",
    "for max_length in [545]:\n",
    "    results = {}\n",
    "\n",
    "    for data in tqdm(df, total=len(df)):\n",
    "        seq = prot_tokenizer(\" \".join(data), max_length=max_length + 2, truncation=True, return_tensors=\"pt\").to(\"cuda\")\n",
    "        a = prot_encoder(**seq)\n",
    "        a = a.last_hidden_state.detach().to(\"cpu\")\n",
    "        results[data[:20]] = a[:, 0]\n",
    "\n",
    "    with open(f\"prot_feat/{max_length}_cls.pkl\", \"wb\") as f:\n",
    "        pickle.dump(results, f)"
   ]
  },
  {
   "cell_type": "code",
   "execution_count": null,
   "id": "c7be99bb",
   "metadata": {},
   "outputs": [],
   "source": []
  }
 ],
 "metadata": {
  "kernelspec": {
   "display_name": "Python 3 (ipykernel)",
   "language": "python",
   "name": "python3"
  },
  "language_info": {
   "codemirror_mode": {
    "name": "ipython",
    "version": 3
   },
   "file_extension": ".py",
   "mimetype": "text/x-python",
   "name": "python",
   "nbconvert_exporter": "python",
   "pygments_lexer": "ipython3",
   "version": "3.8.17"
  }
 },
 "nbformat": 4,
 "nbformat_minor": 5
}
