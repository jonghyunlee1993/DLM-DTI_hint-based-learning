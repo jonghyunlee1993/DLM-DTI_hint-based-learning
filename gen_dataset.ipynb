{
 "cells": [
  {
   "cell_type": "code",
   "execution_count": 9,
   "id": "9e969ee3",
   "metadata": {
    "scrolled": true
   },
   "outputs": [],
   "source": [
    "import pandas as pd\n",
    "\n",
    "biosnap_train = pd.read_csv(\"data/BIOSNAP_train.csv\")\n",
    "biosnap_valid = pd.read_csv(\"data/BIOSNAP_valid.csv\")\n",
    "biosnap_test = pd.read_csv(\"data/BIOSNAP_test.csv\")\n",
    "\n",
    "biosnap_train.loc[:, \"Source\"] = \"BIOSNAP\"\n",
    "biosnap_valid.loc[:, \"Source\"] = \"BIOSNAP\"\n",
    "biosnap_test.loc[:, \"Source\"] = \"BIOSNAP\"\n",
    "\n",
    "davis_train = pd.read_csv(\"data/DAVIS_train.csv\")\n",
    "davis_valid = pd.read_csv(\"data/DAVIS_valid.csv\")\n",
    "davis_test = pd.read_csv(\"data/DAVIS_test.csv\")\n",
    "\n",
    "davis_train.loc[:, \"Source\"] = \"DAVIS\"\n",
    "davis_valid.loc[:, \"Source\"] = \"DAVIS\"\n",
    "davis_test.loc[:, \"Source\"] = \"DAVIS\"\n",
    "\n",
    "bindingDB_train = pd.read_csv(\"data/BindingDB_train.csv\")\n",
    "bindingDB_valid = pd.read_csv(\"data/BindingDB_valid.csv\")\n",
    "bindingDB_test = pd.read_csv(\"data/BindingDB_test.csv\")\n",
    "\n",
    "bindingDB_train.loc[:, \"Source\"] = \"BindingDB\"\n",
    "bindingDB_valid.loc[:, \"Source\"] = \"BindingDB\"\n",
    "bindingDB_test.loc[:, \"Source\"] = \"BindingDB\""
   ]
  },
  {
   "cell_type": "code",
   "execution_count": 10,
   "id": "1a04c10b",
   "metadata": {
    "scrolled": true
   },
   "outputs": [],
   "source": [
    "train_df = pd.concat([davis_train, bindingDB_train, biosnap_train]).reset_index(drop=True)\n",
    "valid_df = pd.concat([davis_valid, bindingDB_valid, biosnap_valid]).reset_index(drop=True)\n",
    "test_df = pd.concat([davis_test, bindingDB_test, biosnap_test]).reset_index(drop=True)"
   ]
  },
  {
   "cell_type": "code",
   "execution_count": 11,
   "id": "3ec3e008",
   "metadata": {},
   "outputs": [
    {
     "data": {
      "text/plain": [
       "(12398, 6)"
      ]
     },
     "execution_count": 11,
     "metadata": {},
     "output_type": "execute_result"
    }
   ],
   "source": [
    "valid_df.shape"
   ]
  },
  {
   "cell_type": "code",
   "execution_count": 12,
   "id": "ae926572",
   "metadata": {},
   "outputs": [
    {
     "data": {
      "text/plain": [
       "(24797, 6)"
      ]
     },
     "execution_count": 12,
     "metadata": {},
     "output_type": "execute_result"
    }
   ],
   "source": [
    "test_df.shape"
   ]
  },
  {
   "cell_type": "code",
   "execution_count": 13,
   "id": "7464dfca",
   "metadata": {},
   "outputs": [
    {
     "data": {
      "text/html": [
       "<div>\n",
       "<style scoped>\n",
       "    .dataframe tbody tr th:only-of-type {\n",
       "        vertical-align: middle;\n",
       "    }\n",
       "\n",
       "    .dataframe tbody tr th {\n",
       "        vertical-align: top;\n",
       "    }\n",
       "\n",
       "    .dataframe thead th {\n",
       "        text-align: right;\n",
       "    }\n",
       "</style>\n",
       "<table border=\"1\" class=\"dataframe\">\n",
       "  <thead>\n",
       "    <tr style=\"text-align: right;\">\n",
       "      <th></th>\n",
       "      <th>SMILES</th>\n",
       "      <th>Target Sequence</th>\n",
       "      <th>Label</th>\n",
       "      <th>DrugBank ID</th>\n",
       "      <th>Gene</th>\n",
       "    </tr>\n",
       "    <tr>\n",
       "      <th>Source</th>\n",
       "      <th></th>\n",
       "      <th></th>\n",
       "      <th></th>\n",
       "      <th></th>\n",
       "      <th></th>\n",
       "    </tr>\n",
       "  </thead>\n",
       "  <tbody>\n",
       "    <tr>\n",
       "      <th>BIOSNAP</th>\n",
       "      <td>5497</td>\n",
       "      <td>5497</td>\n",
       "      <td>5497</td>\n",
       "      <td>5497</td>\n",
       "      <td>5497</td>\n",
       "    </tr>\n",
       "    <tr>\n",
       "      <th>BindingDB</th>\n",
       "      <td>13289</td>\n",
       "      <td>13289</td>\n",
       "      <td>13289</td>\n",
       "      <td>0</td>\n",
       "      <td>0</td>\n",
       "    </tr>\n",
       "    <tr>\n",
       "      <th>DAVIS</th>\n",
       "      <td>6011</td>\n",
       "      <td>6011</td>\n",
       "      <td>6011</td>\n",
       "      <td>0</td>\n",
       "      <td>0</td>\n",
       "    </tr>\n",
       "  </tbody>\n",
       "</table>\n",
       "</div>"
      ],
      "text/plain": [
       "           SMILES  Target Sequence  Label  DrugBank ID  Gene\n",
       "Source                                                      \n",
       "BIOSNAP      5497             5497   5497         5497  5497\n",
       "BindingDB   13289            13289  13289            0     0\n",
       "DAVIS        6011             6011   6011            0     0"
      ]
     },
     "execution_count": 13,
     "metadata": {},
     "output_type": "execute_result"
    }
   ],
   "source": [
    "test_df.groupby(\"Source\").count()"
   ]
  },
  {
   "cell_type": "code",
   "execution_count": 15,
   "id": "08609ed2",
   "metadata": {},
   "outputs": [],
   "source": [
    "train_df.to_csv(\"data/train_dataset.csv\", index=False)\n",
    "valid_df.to_csv(\"data/valid_dataset.csv\", index=False)\n",
    "test_df.to_csv(\"data/test_dataset.csv\", index=False)"
   ]
  },
  {
   "cell_type": "code",
   "execution_count": 13,
   "id": "6731e30b",
   "metadata": {},
   "outputs": [],
   "source": [
    "df.to_csv(\"data/BIOSNAP_train.csv\", index=False)"
   ]
  },
  {
   "cell_type": "code",
   "execution_count": 1,
   "id": "20b1daca",
   "metadata": {},
   "outputs": [
    {
     "data": {
      "text/html": [
       "<div>\n",
       "<style scoped>\n",
       "    .dataframe tbody tr th:only-of-type {\n",
       "        vertical-align: middle;\n",
       "    }\n",
       "\n",
       "    .dataframe tbody tr th {\n",
       "        vertical-align: top;\n",
       "    }\n",
       "\n",
       "    .dataframe thead th {\n",
       "        text-align: right;\n",
       "    }\n",
       "</style>\n",
       "<table border=\"1\" class=\"dataframe\">\n",
       "  <thead>\n",
       "    <tr style=\"text-align: right;\">\n",
       "      <th></th>\n",
       "      <th>SMILES</th>\n",
       "      <th>Target Sequence</th>\n",
       "      <th>Label</th>\n",
       "      <th>DrugBank ID</th>\n",
       "      <th>Gene</th>\n",
       "    </tr>\n",
       "    <tr>\n",
       "      <th>Source</th>\n",
       "      <th></th>\n",
       "      <th></th>\n",
       "      <th></th>\n",
       "      <th></th>\n",
       "      <th></th>\n",
       "    </tr>\n",
       "  </thead>\n",
       "  <tbody>\n",
       "    <tr>\n",
       "      <th>BIOSNAP</th>\n",
       "      <td>19238</td>\n",
       "      <td>19238</td>\n",
       "      <td>19238</td>\n",
       "      <td>19238</td>\n",
       "      <td>19238</td>\n",
       "    </tr>\n",
       "    <tr>\n",
       "      <th>BindingDB</th>\n",
       "      <td>12668</td>\n",
       "      <td>12668</td>\n",
       "      <td>12668</td>\n",
       "      <td>0</td>\n",
       "      <td>0</td>\n",
       "    </tr>\n",
       "    <tr>\n",
       "      <th>DAVIS</th>\n",
       "      <td>2086</td>\n",
       "      <td>2086</td>\n",
       "      <td>2086</td>\n",
       "      <td>0</td>\n",
       "      <td>0</td>\n",
       "    </tr>\n",
       "  </tbody>\n",
       "</table>\n",
       "</div>"
      ],
      "text/plain": [
       "           SMILES  Target Sequence  Label  DrugBank ID   Gene\n",
       "Source                                                       \n",
       "BIOSNAP     19238            19238  19238        19238  19238\n",
       "BindingDB   12668            12668  12668            0      0\n",
       "DAVIS        2086             2086   2086            0      0"
      ]
     },
     "execution_count": 1,
     "metadata": {},
     "output_type": "execute_result"
    }
   ],
   "source": [
    "import pandas as pd\n",
    "\n",
    "train_df = pd.read_csv(\"data/train_dataset.csv\")\n",
    "valid_df = pd.read_csv(\"data/valid_dataset.csv\")\n",
    "test_df = pd.read_csv(\"data/test_dataset.csv\")\n",
    "\n",
    "train_df.groupby(\"Source\").count()"
   ]
  },
  {
   "cell_type": "code",
   "execution_count": 2,
   "id": "ed25822e",
   "metadata": {},
   "outputs": [
    {
     "data": {
      "text/html": [
       "<div>\n",
       "<style scoped>\n",
       "    .dataframe tbody tr th:only-of-type {\n",
       "        vertical-align: middle;\n",
       "    }\n",
       "\n",
       "    .dataframe tbody tr th {\n",
       "        vertical-align: top;\n",
       "    }\n",
       "\n",
       "    .dataframe thead th {\n",
       "        text-align: right;\n",
       "    }\n",
       "</style>\n",
       "<table border=\"1\" class=\"dataframe\">\n",
       "  <thead>\n",
       "    <tr style=\"text-align: right;\">\n",
       "      <th></th>\n",
       "      <th>SMILES</th>\n",
       "      <th>Target Sequence</th>\n",
       "      <th>Label</th>\n",
       "      <th>DrugBank ID</th>\n",
       "      <th>Gene</th>\n",
       "    </tr>\n",
       "    <tr>\n",
       "      <th>Source</th>\n",
       "      <th></th>\n",
       "      <th></th>\n",
       "      <th></th>\n",
       "      <th></th>\n",
       "      <th></th>\n",
       "    </tr>\n",
       "  </thead>\n",
       "  <tbody>\n",
       "    <tr>\n",
       "      <th>BIOSNAP</th>\n",
       "      <td>2748</td>\n",
       "      <td>2748</td>\n",
       "      <td>2748</td>\n",
       "      <td>2748</td>\n",
       "      <td>2748</td>\n",
       "    </tr>\n",
       "    <tr>\n",
       "      <th>BindingDB</th>\n",
       "      <td>6644</td>\n",
       "      <td>6644</td>\n",
       "      <td>6644</td>\n",
       "      <td>0</td>\n",
       "      <td>0</td>\n",
       "    </tr>\n",
       "    <tr>\n",
       "      <th>DAVIS</th>\n",
       "      <td>3006</td>\n",
       "      <td>3006</td>\n",
       "      <td>3006</td>\n",
       "      <td>0</td>\n",
       "      <td>0</td>\n",
       "    </tr>\n",
       "  </tbody>\n",
       "</table>\n",
       "</div>"
      ],
      "text/plain": [
       "           SMILES  Target Sequence  Label  DrugBank ID  Gene\n",
       "Source                                                      \n",
       "BIOSNAP      2748             2748   2748         2748  2748\n",
       "BindingDB    6644             6644   6644            0     0\n",
       "DAVIS        3006             3006   3006            0     0"
      ]
     },
     "execution_count": 2,
     "metadata": {},
     "output_type": "execute_result"
    }
   ],
   "source": [
    "valid_df.groupby(\"Source\").count()"
   ]
  },
  {
   "cell_type": "code",
   "execution_count": 3,
   "id": "c422ab5e",
   "metadata": {},
   "outputs": [
    {
     "data": {
      "text/html": [
       "<div>\n",
       "<style scoped>\n",
       "    .dataframe tbody tr th:only-of-type {\n",
       "        vertical-align: middle;\n",
       "    }\n",
       "\n",
       "    .dataframe tbody tr th {\n",
       "        vertical-align: top;\n",
       "    }\n",
       "\n",
       "    .dataframe thead th {\n",
       "        text-align: right;\n",
       "    }\n",
       "</style>\n",
       "<table border=\"1\" class=\"dataframe\">\n",
       "  <thead>\n",
       "    <tr style=\"text-align: right;\">\n",
       "      <th></th>\n",
       "      <th>SMILES</th>\n",
       "      <th>Target Sequence</th>\n",
       "      <th>Label</th>\n",
       "      <th>DrugBank ID</th>\n",
       "      <th>Gene</th>\n",
       "    </tr>\n",
       "    <tr>\n",
       "      <th>Source</th>\n",
       "      <th></th>\n",
       "      <th></th>\n",
       "      <th></th>\n",
       "      <th></th>\n",
       "      <th></th>\n",
       "    </tr>\n",
       "  </thead>\n",
       "  <tbody>\n",
       "    <tr>\n",
       "      <th>BIOSNAP</th>\n",
       "      <td>5497</td>\n",
       "      <td>5497</td>\n",
       "      <td>5497</td>\n",
       "      <td>5497</td>\n",
       "      <td>5497</td>\n",
       "    </tr>\n",
       "    <tr>\n",
       "      <th>BindingDB</th>\n",
       "      <td>13289</td>\n",
       "      <td>13289</td>\n",
       "      <td>13289</td>\n",
       "      <td>0</td>\n",
       "      <td>0</td>\n",
       "    </tr>\n",
       "    <tr>\n",
       "      <th>DAVIS</th>\n",
       "      <td>6011</td>\n",
       "      <td>6011</td>\n",
       "      <td>6011</td>\n",
       "      <td>0</td>\n",
       "      <td>0</td>\n",
       "    </tr>\n",
       "  </tbody>\n",
       "</table>\n",
       "</div>"
      ],
      "text/plain": [
       "           SMILES  Target Sequence  Label  DrugBank ID  Gene\n",
       "Source                                                      \n",
       "BIOSNAP      5497             5497   5497         5497  5497\n",
       "BindingDB   13289            13289  13289            0     0\n",
       "DAVIS        6011             6011   6011            0     0"
      ]
     },
     "execution_count": 3,
     "metadata": {},
     "output_type": "execute_result"
    }
   ],
   "source": [
    "test_df.groupby(\"Source\").count()"
   ]
  },
  {
   "cell_type": "code",
   "execution_count": null,
   "id": "6075af0a",
   "metadata": {},
   "outputs": [],
   "source": []
  }
 ],
 "metadata": {
  "kernelspec": {
   "display_name": "Python 3 (ipykernel)",
   "language": "python",
   "name": "python3"
  },
  "language_info": {
   "codemirror_mode": {
    "name": "ipython",
    "version": 3
   },
   "file_extension": ".py",
   "mimetype": "text/x-python",
   "name": "python",
   "nbconvert_exporter": "python",
   "pygments_lexer": "ipython3",
   "version": "3.7.11"
  }
 },
 "nbformat": 4,
 "nbformat_minor": 5
}
